{
 "cells": [
  {
   "cell_type": "code",
   "execution_count": null,
   "id": "8168a174",
   "metadata": {},
   "outputs": [],
   "source": [
    "fetch (\n",
    "    \"https://api-inference.huggingface.co/models/stabilityai/stable-diffusion-2-1\",{\n",
    "        method:\"POST\",\n",
    "        headers:{\n",
    "            \"content-type\":\"application/json\",\n",
    "        },\n",
    "        body:JSON.stingify({inputs:\"a flying cat\"})\n",
    "    }\n",
    ")"
   ]
  }
 ],
 "metadata": {
  "kernelspec": {
   "display_name": "Python 3 (ipykernel)",
   "language": "python",
   "name": "python3"
  },
  "language_info": {
   "codemirror_mode": {
    "name": "ipython",
    "version": 3
   },
   "file_extension": ".py",
   "mimetype": "text/x-python",
   "name": "python",
   "nbconvert_exporter": "python",
   "pygments_lexer": "ipython3",
   "version": "3.9.12"
  }
 },
 "nbformat": 4,
 "nbformat_minor": 5
}
