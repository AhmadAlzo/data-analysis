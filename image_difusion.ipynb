{
 "cells": [
  {
   "cell_type": "code",
   "execution_count": null,
   "id": "c5776dcb",
   "metadata": {},
   "outputs": [],
   "source": [
    "import numpy as np \n",
    "import pandas as pd "
   ]
  },
  {
   "cell_type": "code",
   "execution_count": null,
   "id": "e5edb1c9",
   "metadata": {},
   "outputs": [],
   "source": []
  },
  {
   "cell_type": "code",
   "execution_count": null,
   "id": "ff3a2b8a",
   "metadata": {},
   "outputs": [],
   "source": []
  },
  {
   "cell_type": "code",
   "execution_count": null,
   "id": "ad20b808",
   "metadata": {},
   "outputs": [],
   "source": [
    "dialogs = []\n",
    "with open('human_chat.txt', 'r') as w:\n",
    "    for line in w:\n",
    "        try:\n",
    "            dialogs.append(line.split(': ')[1].split(\"\\n\")[0])\n",
    "        except:\n",
    "            print('done')\n",
    "        \n",
    "len(dialogs)\n"
   ]
  },
  {
   "cell_type": "code",
   "execution_count": null,
   "id": "63387694",
   "metadata": {},
   "outputs": [],
   "source": []
  },
  {
   "cell_type": "code",
   "execution_count": 1,
   "id": "3af536f7",
   "metadata": {},
   "outputs": [
    {
     "ename": "NameError",
     "evalue": "name 'pd' is not defined",
     "output_type": "error",
     "traceback": [
      "\u001b[1;31m---------------------------------------------------------------------------\u001b[0m",
      "\u001b[1;31mNameError\u001b[0m                                 Traceback (most recent call last)",
      "Input \u001b[1;32mIn [1]\u001b[0m, in \u001b[0;36m<cell line: 1>\u001b[1;34m()\u001b[0m\n\u001b[1;32m----> 1\u001b[0m mh \u001b[38;5;241m=\u001b[39m \u001b[43mpd\u001b[49m\u001b[38;5;241m.\u001b[39mread_csv(\u001b[38;5;124m'\u001b[39m\u001b[38;5;124mMental_Health_FAQ.csv\u001b[39m\u001b[38;5;124m'\u001b[39m)\n\u001b[0;32m      2\u001b[0m mh\u001b[38;5;241m.\u001b[39mhead()\n",
      "\u001b[1;31mNameError\u001b[0m: name 'pd' is not defined"
     ]
    }
   ],
   "source": [
    "mh = pd.read_csv('Mental_Health_FAQ.csv')\n",
    "mh.head()"
   ]
  },
  {
   "cell_type": "code",
   "execution_count": 2,
   "id": "7675f2c4",
   "metadata": {},
   "outputs": [
    {
     "ename": "NameError",
     "evalue": "name 'mh' is not defined",
     "output_type": "error",
     "traceback": [
      "\u001b[1;31m---------------------------------------------------------------------------\u001b[0m",
      "\u001b[1;31mNameError\u001b[0m                                 Traceback (most recent call last)",
      "Input \u001b[1;32mIn [2]\u001b[0m, in \u001b[0;36m<cell line: 1>\u001b[1;34m()\u001b[0m\n\u001b[1;32m----> 1\u001b[0m dfmh \u001b[38;5;241m=\u001b[39m \u001b[43mmh\u001b[49m\u001b[38;5;241m.\u001b[39miloc[:,\u001b[38;5;241m1\u001b[39m:]\n\u001b[0;32m      2\u001b[0m dfmh\n",
      "\u001b[1;31mNameError\u001b[0m: name 'mh' is not defined"
     ]
    }
   ],
   "source": [
    "# data = list(zip(mh.Questions, mh.Answers))\n",
    "# qna = []\n",
    "# for i in data:\n",
    "#     data1 = []\n",
    "#     data1.append(i[0])\n",
    "#     data1.append(i[1])\n",
    "#     qna.append(data1)\n",
    "    \n",
    "# print(list(mh.Answers))"
   ]
  },
  {
   "cell_type": "code",
   "execution_count": null,
   "id": "abfdbef8",
   "metadata": {},
   "outputs": [],
   "source": [
    "mh."
   ]
  },
  {
   "cell_type": "code",
   "execution_count": null,
   "id": "0b38a03f",
   "metadata": {},
   "outputs": [],
   "source": [
    "ed = pd.read_csv('emotion-emotion_69k.csv')\n",
    "ed.head(2)"
   ]
  },
  {
   "cell_type": "code",
   "execution_count": null,
   "id": "e2851301",
   "metadata": {},
   "outputs": [],
   "source": [
    "ed.columns"
   ]
  },
  {
   "cell_type": "code",
   "execution_count": null,
   "id": "1481f6c1",
   "metadata": {},
   "outputs": [],
   "source": []
  },
  {
   "cell_type": "code",
   "execution_count": null,
   "id": "710692d7",
   "metadata": {},
   "outputs": [],
   "source": [
    "emapthetic_dialogs = []\n",
    "for i in ed.empathetic_dialogues:\n",
    "    try: \n",
    "        emapthetic_dialogs.append(i.split('\\nAgent :')[0].split('Customer :')[1])\n",
    "    except:\n",
    "        continue\n",
    "    \n",
    "len(emapthetic_dialogs)\n",
    "emapthetic_dialogs"
   ]
  },
  {
   "cell_type": "code",
   "execution_count": null,
   "id": "157a3c3d",
   "metadata": {},
   "outputs": [],
   "source": [
    "ed.head(2)"
   ]
  },
  {
   "cell_type": "code",
   "execution_count": null,
   "id": "73d36bfc",
   "metadata": {},
   "outputs": [],
   "source": [
    "tc = pd.read_csv('topical_chat.csv')\n",
    "tc.head()"
   ]
  },
  {
   "cell_type": "code",
   "execution_count": null,
   "id": "26def735",
   "metadata": {},
   "outputs": [],
   "source": []
  },
  {
   "cell_type": "code",
   "execution_count": null,
   "id": "8b710aae",
   "metadata": {},
   "outputs": [],
   "source": [
    "tc_dialogs = list(tc.message)"
   ]
  },
  {
   "cell_type": "code",
   "execution_count": null,
   "id": "fd06f753",
   "metadata": {},
   "outputs": [],
   "source": []
  },
  {
   "cell_type": "code",
   "execution_count": null,
   "id": "fe667c6d",
   "metadata": {},
   "outputs": [],
   "source": [
    "len(tc_dialogs)"
   ]
  },
  {
   "cell_type": "code",
   "execution_count": null,
   "id": "708a0ab5",
   "metadata": {},
   "outputs": [],
   "source": [
    "!pip install cleantext"
   ]
  },
  {
   "cell_type": "code",
   "execution_count": null,
   "id": "1cc03183",
   "metadata": {},
   "outputs": [],
   "source": [
    "import cleantext\n",
    "\n",
    "\n",
    "\n",
    "def clean(textdata, depth):\n",
    "    cleaned_text = []\n",
    "    if depth == 1:\n",
    "        for i in textdata:\n",
    "            cleaned_text.append(cleantext.clean(str(i), extra_spaces=True, lowercase=True, stopwords=True, stemming=True, numbers=True, punct=True, clean_all = True))\n",
    "        \n",
    "        return cleaned_text\n",
    "    else:\n",
    "        for i in textdata:\n",
    "            for j in i:\n",
    "                cleaned_text.append(cleantext.clean(str(j), extra_spaces=True, lowercase=True, stopwords=True, stemming=True, numbers=True, punct=True, clean_all = True))\n",
    "        \n",
    "        return cleaned_text"
   ]
  },
  {
   "cell_type": "code",
   "execution_count": null,
   "id": "dbf74b78",
   "metadata": {},
   "outputs": [],
   "source": [
    "# dialogs[::2] = clean(dialogs[::2], depth = 1)\n",
    "dialogs[1::2] = clean(dialogs[1::2], depth = 1)\n",
    "\n",
    "emapthetic_dialogs =clean(emapthetic_dialogs, depth = 1)\n",
    "\n",
    "\n",
    "\n",
    "tc_dialogs = clean(tc_dialogs, depth = 1)\n",
    "dialogs[1::2]\n",
    "# clean(dialogs[1::2], depth = 1)"
   ]
  },
  {
   "cell_type": "code",
   "execution_count": null,
   "id": "bb37a228",
   "metadata": {},
   "outputs": [],
   "source": []
  },
  {
   "cell_type": "code",
   "execution_count": null,
   "id": "83441472",
   "metadata": {},
   "outputs": [],
   "source": [
    "all_questions = list(dialogs[::2]) + list(mh.Questions) + list(emapthetic_dialogs[::2]) + list(tc_dialogs[::2])\n",
    "all_answers = list(dialogs[1::2]) + list(mh.Answers) + list(emapthetic_dialogs[1::2]) + list(tc_dialogs[1::2]) "
   ]
  },
  {
   "cell_type": "code",
   "execution_count": null,
   "id": "d05caa41",
   "metadata": {},
   "outputs": [],
   "source": [
    "del dialogs"
   ]
  },
  {
   "cell_type": "code",
   "execution_count": null,
   "id": "07bc2f8d",
   "metadata": {},
   "outputs": [],
   "source": [
    "del mh"
   ]
  },
  {
   "cell_type": "code",
   "execution_count": null,
   "id": "8ca8ace6",
   "metadata": {},
   "outputs": [],
   "source": [
    "del emapthetic_dialogs"
   ]
  },
  {
   "cell_type": "code",
   "execution_count": null,
   "id": "86ac8994",
   "metadata": {},
   "outputs": [],
   "source": [
    "del tc_dialogs"
   ]
  },
  {
   "cell_type": "code",
   "execution_count": null,
   "id": "6cc1bd67",
   "metadata": {},
   "outputs": [],
   "source": [
    "len(all_questions)"
   ]
  },
  {
   "cell_type": "code",
   "execution_count": null,
   "id": "3b1abaaa",
   "metadata": {},
   "outputs": [],
   "source": [
    "len(all_answers)"
   ]
  },
  {
   "cell_type": "code",
   "execution_count": null,
   "id": "00421bb7",
   "metadata": {},
   "outputs": [],
   "source": [
    "import numpy as np\n",
    "import tensorflow as tf\n",
    "import pickle\n",
    "from tensorflow.keras import layers , activations , models , preprocessing , utils"
   ]
  },
  {
   "cell_type": "code",
   "execution_count": null,
   "id": "ac62c2e9",
   "metadata": {},
   "outputs": [],
   "source": [
    "tokenizer = preprocessing.text.Tokenizer()\n",
    "tokenizer.fit_on_texts([str(i) for i in all_questions[:1000]] +  [str(i) for i in all_answers[:1000]])\n",
    "VOCAB_SIZE = len( tokenizer.word_index )+1\n",
    "print( 'VOCAB SIZE : {}'.format( VOCAB_SIZE ))"
   ]
  },
  {
   "cell_type": "code",
   "execution_count": null,
   "id": "2c3c80fd",
   "metadata": {},
   "outputs": [],
   "source": [
    "from gensim.models import Word2Vec\n",
    "import re\n",
    "\n",
    "vocab = []\n",
    "for word in tokenizer.word_index:\n",
    "    vocab.append( word )\n",
    "\n",
    "def tokenize( sentences ):\n",
    "    tokens_list = []\n",
    "    vocabulary = []\n",
    "    for sentence in sentences:\n",
    "        sentence = sentence.lower()\n",
    "        sentence = re.sub( '[^a-zA-Z]', ' ', sentence )\n",
    "        tokens = sentence.split()\n",
    "        vocabulary += tokens\n",
    "        tokens_list.append( tokens )\n",
    "    return tokens_list , vocabulary\n",
    "\n",
    "#p = tokenize( questions + answers )\n",
    "#model = Word2Vec( p[ 0 ] ) \n",
    "\n",
    "#embedding_matrix = np.zeros( ( VOCAB_SIZE , 100 ) )\n",
    "#for i in range( len( tokenizer.word_index ) ):\n",
    "    #embedding_matrix[ i ] = model[ vocab[i] ]\n",
    "\n",
    "# encoder_input_data\n",
    "tokenized_questions = tokenizer.texts_to_sequences( [str(i) for i in all_questions[:1000]] )\n",
    "maxlen_questions = max( [ len(x) for x in tokenized_questions ] )\n",
    "padded_questions = preprocessing.sequence.pad_sequences( tokenized_questions , maxlen=maxlen_questions , padding='post' )\n",
    "encoder_input_data = np.array( padded_questions )\n",
    "print( encoder_input_data.shape , maxlen_questions )"
   ]
  },
  {
   "cell_type": "code",
   "execution_count": null,
   "id": "ee9dce9d",
   "metadata": {},
   "outputs": [],
   "source": [
    "# decoder_input_data\n",
    "tokenized_answers = tokenizer.texts_to_sequences( [str(i) for i in all_answers[:1000]] )\n",
    "maxlen_answers = max( [ len(x) for x in tokenized_answers ] )\n",
    "padded_answers = preprocessing.sequence.pad_sequences( tokenized_answers , maxlen=maxlen_answers , padding='post' )\n",
    "decoder_input_data = np.array( padded_answers )\n",
    "print( decoder_input_data.shape , maxlen_answers )\n"
   ]
  },
  {
   "cell_type": "code",
   "execution_count": null,
   "id": "4946da08",
   "metadata": {},
   "outputs": [],
   "source": [
    "# decoder_output_data\n",
    "tokenized_answers = tokenizer.texts_to_sequences( [str(i) for i in all_answers[:1000]] )\n",
    "for i in range(len(tokenized_answers)) :\n",
    "    tokenized_answers[i] = tokenized_answers[i][1:]\n",
    "maxlen_answers = max( [ len(x) for x in tokenized_answers ] )\n",
    "padded_answers = preprocessing.sequence.pad_sequences( tokenized_answers , maxlen=maxlen_answers , padding='post' )\n",
    "\n"
   ]
  },
  {
   "cell_type": "code",
   "execution_count": null,
   "id": "c57855bd",
   "metadata": {},
   "outputs": [],
   "source": [
    "onehot_answers = utils.to_categorical( padded_answers , VOCAB_SIZE )\n",
    "decoder_output_data = np.array( onehot_answers )\n",
    "print( decoder_output_data.shape )"
   ]
  },
  {
   "cell_type": "code",
   "execution_count": null,
   "id": "69977aac",
   "metadata": {},
   "outputs": [],
   "source": []
  },
  {
   "cell_type": "code",
   "execution_count": null,
   "id": "816024f4",
   "metadata": {},
   "outputs": [],
   "source": [
    "encoder_inputs = tf.keras.layers.Input(shape=( maxlen_questions , ))\n",
    "encoder_embedding = tf.keras.layers.Embedding( VOCAB_SIZE, 200 , mask_zero=True ) (encoder_inputs)\n",
    "encoder_outputs , state_h , state_c = tf.keras.layers.LSTM( 200 , return_state=True )( encoder_embedding )\n",
    "encoder_states = [ state_h , state_c ]\n",
    "\n",
    "decoder_inputs = tf.keras.layers.Input(shape=( maxlen_answers ,  ))\n",
    "decoder_embedding = tf.keras.layers.Embedding( VOCAB_SIZE, 200 , mask_zero=True) (decoder_inputs)\n",
    "decoder_lstm = tf.keras.layers.LSTM( 200 , return_state=True , return_sequences=True )\n",
    "decoder_outputs , _ , _ = decoder_lstm ( decoder_embedding , initial_state=encoder_states )\n",
    "decoder_dense = tf.keras.layers.Dense( VOCAB_SIZE , activation=tf.keras.activations.softmax ) \n",
    "output = decoder_dense ( decoder_outputs )\n",
    "\n",
    "model = tf.keras.models.Model([encoder_inputs, decoder_inputs], output )\n",
    "model.compile(optimizer=tf.keras.optimizers.RMSprop(), loss='categorical_crossentropy')\n",
    "\n",
    "model.summary()"
   ]
  },
  {
   "cell_type": "code",
   "execution_count": null,
   "id": "9fbda1d4",
   "metadata": {},
   "outputs": [],
   "source": [
    "model.fit([encoder_input_data , decoder_input_data], decoder_output_data, batch_size=50, epochs=150 ) "
   ]
  }
 ],
 "metadata": {
  "kernelspec": {
   "display_name": "Python 3 (ipykernel)",
   "language": "python",
   "name": "python3"
  },
  "language_info": {
   "codemirror_mode": {
    "name": "ipython",
    "version": 3
   },
   "file_extension": ".py",
   "mimetype": "text/x-python",
   "name": "python",
   "nbconvert_exporter": "python",
   "pygments_lexer": "ipython3",
   "version": "3.9.12"
  }
 },
 "nbformat": 4,
 "nbformat_minor": 5
}
