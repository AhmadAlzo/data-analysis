{
  "nbformat": 4,
  "nbformat_minor": 0,
  "metadata": {
    "colab": {
      "provenance": []
    },
    "kernelspec": {
      "name": "python3",
      "display_name": "Python 3"
    },
    "language_info": {
      "name": "python"
    },
    "accelerator": "GPU",
    "gpuClass": "standard"
  },
  "cells": [
    {
      "cell_type": "code",
      "execution_count": 1,
      "metadata": {
        "id": "SOZuDxvvcgcL"
      },
      "outputs": [],
      "source": [
        "! pip install -q kaggle"
      ]
    },
    {
      "cell_type": "code",
      "source": [
        "from google.colab import files\n",
        "files.upload()"
      ],
      "metadata": {
        "colab": {
          "base_uri": "https://localhost:8080/",
          "height": 92
        },
        "id": "rFvC4fqAcsPV",
        "outputId": "c4f93475-fac8-40f8-9cb7-54a593df6699"
      },
      "execution_count": 2,
      "outputs": [
        {
          "output_type": "display_data",
          "data": {
            "text/plain": [
              "<IPython.core.display.HTML object>"
            ],
            "text/html": [
              "\n",
              "     <input type=\"file\" id=\"files-1bffb35c-052f-4d8e-a1cf-78361e052b41\" name=\"files[]\" multiple disabled\n",
              "        style=\"border:none\" />\n",
              "     <output id=\"result-1bffb35c-052f-4d8e-a1cf-78361e052b41\">\n",
              "      Upload widget is only available when the cell has been executed in the\n",
              "      current browser session. Please rerun this cell to enable.\n",
              "      </output>\n",
              "      <script>// Copyright 2017 Google LLC\n",
              "//\n",
              "// Licensed under the Apache License, Version 2.0 (the \"License\");\n",
              "// you may not use this file except in compliance with the License.\n",
              "// You may obtain a copy of the License at\n",
              "//\n",
              "//      http://www.apache.org/licenses/LICENSE-2.0\n",
              "//\n",
              "// Unless required by applicable law or agreed to in writing, software\n",
              "// distributed under the License is distributed on an \"AS IS\" BASIS,\n",
              "// WITHOUT WARRANTIES OR CONDITIONS OF ANY KIND, either express or implied.\n",
              "// See the License for the specific language governing permissions and\n",
              "// limitations under the License.\n",
              "\n",
              "/**\n",
              " * @fileoverview Helpers for google.colab Python module.\n",
              " */\n",
              "(function(scope) {\n",
              "function span(text, styleAttributes = {}) {\n",
              "  const element = document.createElement('span');\n",
              "  element.textContent = text;\n",
              "  for (const key of Object.keys(styleAttributes)) {\n",
              "    element.style[key] = styleAttributes[key];\n",
              "  }\n",
              "  return element;\n",
              "}\n",
              "\n",
              "// Max number of bytes which will be uploaded at a time.\n",
              "const MAX_PAYLOAD_SIZE = 100 * 1024;\n",
              "\n",
              "function _uploadFiles(inputId, outputId) {\n",
              "  const steps = uploadFilesStep(inputId, outputId);\n",
              "  const outputElement = document.getElementById(outputId);\n",
              "  // Cache steps on the outputElement to make it available for the next call\n",
              "  // to uploadFilesContinue from Python.\n",
              "  outputElement.steps = steps;\n",
              "\n",
              "  return _uploadFilesContinue(outputId);\n",
              "}\n",
              "\n",
              "// This is roughly an async generator (not supported in the browser yet),\n",
              "// where there are multiple asynchronous steps and the Python side is going\n",
              "// to poll for completion of each step.\n",
              "// This uses a Promise to block the python side on completion of each step,\n",
              "// then passes the result of the previous step as the input to the next step.\n",
              "function _uploadFilesContinue(outputId) {\n",
              "  const outputElement = document.getElementById(outputId);\n",
              "  const steps = outputElement.steps;\n",
              "\n",
              "  const next = steps.next(outputElement.lastPromiseValue);\n",
              "  return Promise.resolve(next.value.promise).then((value) => {\n",
              "    // Cache the last promise value to make it available to the next\n",
              "    // step of the generator.\n",
              "    outputElement.lastPromiseValue = value;\n",
              "    return next.value.response;\n",
              "  });\n",
              "}\n",
              "\n",
              "/**\n",
              " * Generator function which is called between each async step of the upload\n",
              " * process.\n",
              " * @param {string} inputId Element ID of the input file picker element.\n",
              " * @param {string} outputId Element ID of the output display.\n",
              " * @return {!Iterable<!Object>} Iterable of next steps.\n",
              " */\n",
              "function* uploadFilesStep(inputId, outputId) {\n",
              "  const inputElement = document.getElementById(inputId);\n",
              "  inputElement.disabled = false;\n",
              "\n",
              "  const outputElement = document.getElementById(outputId);\n",
              "  outputElement.innerHTML = '';\n",
              "\n",
              "  const pickedPromise = new Promise((resolve) => {\n",
              "    inputElement.addEventListener('change', (e) => {\n",
              "      resolve(e.target.files);\n",
              "    });\n",
              "  });\n",
              "\n",
              "  const cancel = document.createElement('button');\n",
              "  inputElement.parentElement.appendChild(cancel);\n",
              "  cancel.textContent = 'Cancel upload';\n",
              "  const cancelPromise = new Promise((resolve) => {\n",
              "    cancel.onclick = () => {\n",
              "      resolve(null);\n",
              "    };\n",
              "  });\n",
              "\n",
              "  // Wait for the user to pick the files.\n",
              "  const files = yield {\n",
              "    promise: Promise.race([pickedPromise, cancelPromise]),\n",
              "    response: {\n",
              "      action: 'starting',\n",
              "    }\n",
              "  };\n",
              "\n",
              "  cancel.remove();\n",
              "\n",
              "  // Disable the input element since further picks are not allowed.\n",
              "  inputElement.disabled = true;\n",
              "\n",
              "  if (!files) {\n",
              "    return {\n",
              "      response: {\n",
              "        action: 'complete',\n",
              "      }\n",
              "    };\n",
              "  }\n",
              "\n",
              "  for (const file of files) {\n",
              "    const li = document.createElement('li');\n",
              "    li.append(span(file.name, {fontWeight: 'bold'}));\n",
              "    li.append(span(\n",
              "        `(${file.type || 'n/a'}) - ${file.size} bytes, ` +\n",
              "        `last modified: ${\n",
              "            file.lastModifiedDate ? file.lastModifiedDate.toLocaleDateString() :\n",
              "                                    'n/a'} - `));\n",
              "    const percent = span('0% done');\n",
              "    li.appendChild(percent);\n",
              "\n",
              "    outputElement.appendChild(li);\n",
              "\n",
              "    const fileDataPromise = new Promise((resolve) => {\n",
              "      const reader = new FileReader();\n",
              "      reader.onload = (e) => {\n",
              "        resolve(e.target.result);\n",
              "      };\n",
              "      reader.readAsArrayBuffer(file);\n",
              "    });\n",
              "    // Wait for the data to be ready.\n",
              "    let fileData = yield {\n",
              "      promise: fileDataPromise,\n",
              "      response: {\n",
              "        action: 'continue',\n",
              "      }\n",
              "    };\n",
              "\n",
              "    // Use a chunked sending to avoid message size limits. See b/62115660.\n",
              "    let position = 0;\n",
              "    do {\n",
              "      const length = Math.min(fileData.byteLength - position, MAX_PAYLOAD_SIZE);\n",
              "      const chunk = new Uint8Array(fileData, position, length);\n",
              "      position += length;\n",
              "\n",
              "      const base64 = btoa(String.fromCharCode.apply(null, chunk));\n",
              "      yield {\n",
              "        response: {\n",
              "          action: 'append',\n",
              "          file: file.name,\n",
              "          data: base64,\n",
              "        },\n",
              "      };\n",
              "\n",
              "      let percentDone = fileData.byteLength === 0 ?\n",
              "          100 :\n",
              "          Math.round((position / fileData.byteLength) * 100);\n",
              "      percent.textContent = `${percentDone}% done`;\n",
              "\n",
              "    } while (position < fileData.byteLength);\n",
              "  }\n",
              "\n",
              "  // All done.\n",
              "  yield {\n",
              "    response: {\n",
              "      action: 'complete',\n",
              "    }\n",
              "  };\n",
              "}\n",
              "\n",
              "scope.google = scope.google || {};\n",
              "scope.google.colab = scope.google.colab || {};\n",
              "scope.google.colab._files = {\n",
              "  _uploadFiles,\n",
              "  _uploadFilesContinue,\n",
              "};\n",
              "})(self);\n",
              "</script> "
            ]
          },
          "metadata": {}
        },
        {
          "output_type": "stream",
          "name": "stdout",
          "text": [
            "Saving kaggle.json to kaggle.json\n"
          ]
        },
        {
          "output_type": "execute_result",
          "data": {
            "text/plain": [
              "{'kaggle.json': b'{\"username\":\"apollopubg\",\"key\":\"3c6e2519fa3fc29b6143e88f14a90408\"}'}"
            ]
          },
          "metadata": {},
          "execution_count": 2
        }
      ]
    },
    {
      "cell_type": "code",
      "source": [
        "! mkdir ~/.kaggle\n",
        "! cp kaggle.json ~/.kaggle/\n",
        "! chmod 600 ~/.kaggle/kaggle.json"
      ],
      "metadata": {
        "id": "lQozlZy4cxvg"
      },
      "execution_count": 3,
      "outputs": []
    },
    {
      "cell_type": "code",
      "source": [
        "! kaggle datasets download -d aftabhussaincui/refined-rnsa-ct-scans-12k-pngs\n",
        "! unzip refined-rnsa-ct-scans-12k-pngs.zip"
      ],
      "metadata": {
        "id": "tCbfcYLedfQa"
      },
      "execution_count": null,
      "outputs": []
    },
    {
      "cell_type": "code",
      "source": [
        "import numpy as np\n",
        "import tensorflow as tf\n",
        "from tensorflow.keras.layers import Conv2D, MaxPooling2D, Flatten, Dense , Dropout, SpatialDropout2D ,BatchNormalization\n",
        "from tensorflow.keras.layers import Input\n",
        "from tensorflow.keras.models import Model, Sequential\n",
        "from tensorflow.keras.preprocessing import image\n",
        "from tensorflow.keras.preprocessing.image import ImageDataGenerator, load_img\n",
        "from glob import glob\n",
        "import matplotlib.pyplot as plt\n",
        "from tensorflow.keras.optimizers import Adam\n",
        "from PIL import Image\n",
        "import os, random, shutil\n",
        "from random import uniform"
      ],
      "metadata": {
        "id": "cixwwaAZc1wt"
      },
      "execution_count": 5,
      "outputs": []
    },
    {
      "cell_type": "code",
      "source": [
        "learning_rate = 1e-4\n",
        "batch_size = 34\n",
        "epochs_number = 100"
      ],
      "metadata": {
        "id": "qehRGHSIdBia"
      },
      "execution_count": 6,
      "outputs": []
    },
    {
      "cell_type": "code",
      "source": [
        "dataset_path = 'RNSA_Subset_PNGs_12K'"
      ],
      "metadata": {
        "id": "V7kdBPnfglpT"
      },
      "execution_count": 7,
      "outputs": []
    },
    {
      "cell_type": "code",
      "source": [
        "! rm 'RNSA_Subset_PNGs_12K/Meta data.txt'"
      ],
      "metadata": {
        "id": "ETwR5Ervuoz9"
      },
      "execution_count": 8,
      "outputs": []
    },
    {
      "cell_type": "code",
      "source": [
        "\n",
        "\n",
        "# Get a list of all the folders in the dataset directory\n",
        "folders = [os.path.join(dataset_path, folder_name) for folder_name in os.listdir(dataset_path)]\n",
        "\n",
        "# Initialize empty lists to store the file paths for each set\n",
        "train_set, validation_set, test_set = [], [], []\n",
        "\n",
        "# Loop over each folder and split the PNG images into sets\n",
        "for folder in folders:\n",
        "    # Get the folder name (label)\n",
        "    folder_name = os.path.basename(folder)\n",
        "    # Get a list of all the PNG images in the folder\n",
        "    png_images = [os.path.join(folder, f) for f in os.listdir(folder) if f.endswith('.png')]\n",
        "    random.shuffle(png_images)\n",
        "    # Define the percentage split for train, validation, and test sets\n",
        "    train_percent, validation_percent, test_percent = 0.75, 0.22, 0.03\n",
        "    # Split the PNG images into train, validation, and test sets\n",
        "    num_files = len(png_images)\n",
        "    train_end = int(num_files * train_percent)\n",
        "    validation_end = int(num_files * (train_percent + validation_percent))\n",
        "    train_set += png_images[:train_end]\n",
        "    validation_set += png_images[train_end:validation_end]\n",
        "    test_set += png_images[validation_end:]\n"
      ],
      "metadata": {
        "id": "DECqcLURdG7Y"
      },
      "execution_count": 9,
      "outputs": []
    },
    {
      "cell_type": "code",
      "source": [
        "test_set"
      ],
      "metadata": {
        "id": "m3GOGbAw8i0E"
      },
      "execution_count": null,
      "outputs": []
    },
    {
      "cell_type": "code",
      "source": [
        "for directory in ['Train', 'Validation', 'Test']:\n",
        "    os.makedirs(os.path.join(dataset_path, directory), exist_ok=True)\n",
        "\n",
        "\n",
        "# Loop over the train, validation, and test sets, and copy each image to the appropriate directory\n",
        "for set_name, set_files in [('Train', train_set), ('Validation', validation_set), ('Test', test_set)]:\n",
        "    for folder_name in ['Normal', 'Epidural_Positive','Intraventricular_Positive', 'Subdural_Positive', 'Intraparenchymal_Positvie', 'Subarachnoid_Positive', 'Any_Positive']:\n",
        "        # Create the folder in the set directory\n",
        "        os.makedirs(os.path.join(dataset_path, set_name, folder_name), exist_ok=True)\n",
        "        # Get the images in the current folder\n",
        "        folder_files = [f for f in set_files if folder_name in f]\n",
        "        # Copy the images to the set directory\n",
        "        for f in folder_files:\n",
        "            dest_folder = os.path.join(dataset_path, set_name, folder_name)\n",
        "            shutil.copy(f, dest_folder)\n",
        "\n",
        "# Print the number of images in each set\n",
        "print(\"Train set size:\", len(train_set))\n",
        "print(\"Validation set size:\", len(validation_set))\n",
        "print(\"Test set size:\", len(test_set))"
      ],
      "metadata": {
        "colab": {
          "base_uri": "https://localhost:8080/"
        },
        "id": "QrJ9g2txgFFM",
        "outputId": "8962e9f3-c1f7-4e7f-9569-b4bdab6bcca4"
      },
      "execution_count": 10,
      "outputs": [
        {
          "output_type": "stream",
          "name": "stdout",
          "text": [
            "Train set size: 9000\n",
            "Validation set size: 2640\n",
            "Test set size: 360\n"
          ]
        }
      ]
    },
    {
      "cell_type": "code",
      "source": [
        "def initialize_model(name):\n",
        "  model = tf.keras.models.Sequential(name=name)\n",
        "      # Convolutional layer 1\n",
        "  model.add(Conv2D(filters=96, kernel_size=(7, 7), strides=(2, 2), activation='relu', input_shape=(256, 256, 3)))\n",
        "  model.add(SpatialDropout2D(0.3))\n",
        "  model.add(BatchNormalization())\n",
        "      # Convolutional layer 2\n",
        "  model.add(Conv2D(filters=256, kernel_size=(5, 5), strides=(2, 2), activation='relu'))\n",
        "  \n",
        "  model.add(MaxPooling2D(pool_size=(3, 3), strides=(2, 2)))\n",
        "      # Convolutional layer 3\n",
        "  model.add(Conv2D(filters=384, kernel_size=(3, 3), strides=(1, 1), activation='relu'))\n",
        "  model.add(SpatialDropout2D(0.3))\n",
        "  # model.add(BatchNormalization())\n",
        "      # Convolutional layer 4\n",
        "  model.add(Conv2D(filters=384, kernel_size=(3, 3), strides=(1, 1), activation='relu'))\n",
        "  model.add(SpatialDropout2D(0.4))\n",
        "      # Convolutional layer 5\n",
        "  model.add(Conv2D(filters=256, kernel_size=(3, 3), strides=(1, 1), activation='relu'))\n",
        "  # model.add(SpatialDropout2D(0.2))\n",
        "  model.add( MaxPooling2D(pool_size=(3, 3), strides=(2, 2)))\n",
        "  # model.add(SpatialDropout2D(0.2))\n",
        "      # Flatten the output from convolutional layers\n",
        "  model.add(Flatten())\n",
        "  # model.add(Dropout(uniform(0, 1)))\n",
        "      # Fully-connected layer 1\n",
        "  model.add(Dense(units=4026, activation='relu'))\n",
        "  model.add(Dropout(uniform(0, 1)))\n",
        "      # Fully-connected layer 2\n",
        "  model.add(Dense(units=4026, activation='relu'))\n",
        "  model.add(Dropout(uniform(0, 1)))\n",
        "  model.add (Dense(units=7, activation='softmax'))\n",
        "  return model"
      ],
      "metadata": {
        "id": "7BVtnssrdMgc"
      },
      "execution_count": 17,
      "outputs": []
    },
    {
      "cell_type": "code",
      "source": [
        "model = initialize_model(name=\"ZFnet\")\n",
        "model.summary()"
      ],
      "metadata": {
        "colab": {
          "base_uri": "https://localhost:8080/"
        },
        "id": "QcRl1K9vssFc",
        "outputId": "57e4db1c-aeb4-4b03-bc6c-7ebbcbb5f829"
      },
      "execution_count": 18,
      "outputs": [
        {
          "output_type": "stream",
          "name": "stdout",
          "text": [
            "Model: \"ZFnet\"\n",
            "_________________________________________________________________\n",
            " Layer (type)                Output Shape              Param #   \n",
            "=================================================================\n",
            " conv2d_15 (Conv2D)          (None, 125, 125, 96)      14208     \n",
            "                                                                 \n",
            " spatial_dropout2d_7 (Spatia  (None, 125, 125, 96)     0         \n",
            " lDropout2D)                                                     \n",
            "                                                                 \n",
            " batch_normalization_3 (Batc  (None, 125, 125, 96)     384       \n",
            " hNormalization)                                                 \n",
            "                                                                 \n",
            " conv2d_16 (Conv2D)          (None, 61, 61, 256)       614656    \n",
            "                                                                 \n",
            " max_pooling2d_6 (MaxPooling  (None, 30, 30, 256)      0         \n",
            " 2D)                                                             \n",
            "                                                                 \n",
            " conv2d_17 (Conv2D)          (None, 28, 28, 384)       885120    \n",
            "                                                                 \n",
            " spatial_dropout2d_8 (Spatia  (None, 28, 28, 384)      0         \n",
            " lDropout2D)                                                     \n",
            "                                                                 \n",
            " conv2d_18 (Conv2D)          (None, 26, 26, 384)       1327488   \n",
            "                                                                 \n",
            " spatial_dropout2d_9 (Spatia  (None, 26, 26, 384)      0         \n",
            " lDropout2D)                                                     \n",
            "                                                                 \n",
            " conv2d_19 (Conv2D)          (None, 24, 24, 256)       884992    \n",
            "                                                                 \n",
            " max_pooling2d_7 (MaxPooling  (None, 11, 11, 256)      0         \n",
            " 2D)                                                             \n",
            "                                                                 \n",
            " flatten_3 (Flatten)         (None, 30976)             0         \n",
            "                                                                 \n",
            " dense_9 (Dense)             (None, 4026)              124713402 \n",
            "                                                                 \n",
            " dropout_5 (Dropout)         (None, 4026)              0         \n",
            "                                                                 \n",
            " dense_10 (Dense)            (None, 4026)              16212702  \n",
            "                                                                 \n",
            " dropout_6 (Dropout)         (None, 4026)              0         \n",
            "                                                                 \n",
            " dense_11 (Dense)            (None, 7)                 28189     \n",
            "                                                                 \n",
            "=================================================================\n",
            "Total params: 144,681,141\n",
            "Trainable params: 144,680,949\n",
            "Non-trainable params: 192\n",
            "_________________________________________________________________\n"
          ]
        }
      ]
    },
    {
      "cell_type": "code",
      "source": [
        "def compile_model(model):\n",
        "    model.compile(optimizer = Adam(learning_rate = learning_rate), loss='categorical_crossentropy', metrics=['accuracy'])\n",
        "    return model"
      ],
      "metadata": {
        "id": "UqAoxdrctvxR"
      },
      "execution_count": 19,
      "outputs": []
    },
    {
      "cell_type": "code",
      "source": [
        "train_datagen = ImageDataGenerator(rescale = 1./255)\n",
        "validation_datagen = ImageDataGenerator(rescale = 1./255)\n",
        "test_datagen = ImageDataGenerator(rescale = 1./255)\n"
      ],
      "metadata": {
        "id": "WckxZcisdSZI"
      },
      "execution_count": 20,
      "outputs": []
    },
    {
      "cell_type": "code",
      "source": [
        "train_data = train_datagen.flow_from_directory('RNSA_Subset_PNGs_12K/Train', \n",
        "                                               target_size = (256, 256), \n",
        "                                               batch_size = batch_size, \n",
        "                                               class_mode = 'categorical')\n",
        "validation_data = train_datagen.flow_from_directory('RNSA_Subset_PNGs_12K/Validation', \n",
        "                                                    target_size = (256, 256), \n",
        "                                                    batch_size = batch_size, \n",
        "                                                    class_mode = 'categorical')\n",
        "# test_data = test_datagen.flow_from_directory('RNSA_Subset_PNGs_12K/Test', \n",
        "#                                               target_size = (256, 256), \n",
        "#                                               batch_size = batch_size, \n",
        "#                                               class_mode = 'categorical')"
      ],
      "metadata": {
        "colab": {
          "base_uri": "https://localhost:8080/"
        },
        "id": "_fJeHEjqdUcq",
        "outputId": "80487663-8499-4e4d-9da8-928837c7b08e"
      },
      "execution_count": 21,
      "outputs": [
        {
          "output_type": "stream",
          "name": "stdout",
          "text": [
            "Found 6003 images belonging to 7 classes.\n",
            "Found 2241 images belonging to 7 classes.\n",
            "Found 353 images belonging to 7 classes.\n"
          ]
        }
      ]
    },
    {
      "cell_type": "code",
      "source": [
        "model = compile_model(model)\n",
        "res_history = model.fit(train_data, \n",
        "                        validation_data = validation_data, \n",
        "                        epochs = 60, \n",
        "                        steps_per_epoch = len(train_data), \n",
        "                        validation_steps = len(validation_data))"
      ],
      "metadata": {
        "colab": {
          "base_uri": "https://localhost:8080/"
        },
        "id": "YLqw8IQLdXgN",
        "outputId": "b49dc57a-4bcc-462c-bc5e-bb1e0ed75532"
      },
      "execution_count": 22,
      "outputs": [
        {
          "output_type": "stream",
          "name": "stdout",
          "text": [
            "Epoch 1/60\n",
            "177/177 [==============================] - 78s 347ms/step - loss: 1.9751 - accuracy: 0.2331 - val_loss: 1.9334 - val_accuracy: 0.4110\n",
            "Epoch 2/60\n",
            "177/177 [==============================] - 61s 342ms/step - loss: 1.8767 - accuracy: 0.2434 - val_loss: 1.8790 - val_accuracy: 0.4016\n",
            "Epoch 3/60\n",
            "177/177 [==============================] - 65s 368ms/step - loss: 1.8573 - accuracy: 0.2370 - val_loss: 1.8101 - val_accuracy: 0.3860\n",
            "Epoch 4/60\n",
            "177/177 [==============================] - 60s 338ms/step - loss: 1.8447 - accuracy: 0.2419 - val_loss: 1.8867 - val_accuracy: 0.2735\n",
            "Epoch 5/60\n",
            "177/177 [==============================] - 60s 340ms/step - loss: 1.8365 - accuracy: 0.2450 - val_loss: 1.7858 - val_accuracy: 0.3793\n",
            "Epoch 6/60\n",
            "177/177 [==============================] - 65s 365ms/step - loss: 1.8250 - accuracy: 0.2512 - val_loss: 1.7377 - val_accuracy: 0.3699\n",
            "Epoch 7/60\n",
            "177/177 [==============================] - 60s 339ms/step - loss: 1.8148 - accuracy: 0.2584 - val_loss: 1.7310 - val_accuracy: 0.4012\n",
            "Epoch 8/60\n",
            "177/177 [==============================] - 60s 337ms/step - loss: 1.8119 - accuracy: 0.2594 - val_loss: 1.6780 - val_accuracy: 0.4034\n",
            "Epoch 9/60\n",
            "177/177 [==============================] - 65s 366ms/step - loss: 1.8003 - accuracy: 0.2695 - val_loss: 1.7604 - val_accuracy: 0.3155\n",
            "Epoch 10/60\n",
            "177/177 [==============================] - 60s 338ms/step - loss: 1.7937 - accuracy: 0.2769 - val_loss: 1.6686 - val_accuracy: 0.4137\n",
            "Epoch 11/60\n",
            "177/177 [==============================] - 60s 337ms/step - loss: 1.7942 - accuracy: 0.2732 - val_loss: 1.6564 - val_accuracy: 0.3855\n",
            "Epoch 12/60\n",
            "177/177 [==============================] - 60s 337ms/step - loss: 1.7749 - accuracy: 0.2865 - val_loss: 1.6832 - val_accuracy: 0.3980\n",
            "Epoch 13/60\n",
            "177/177 [==============================] - 59s 335ms/step - loss: 1.7683 - accuracy: 0.2904 - val_loss: 1.6290 - val_accuracy: 0.4087\n",
            "Epoch 14/60\n",
            "177/177 [==============================] - 60s 336ms/step - loss: 1.7546 - accuracy: 0.2989 - val_loss: 1.6460 - val_accuracy: 0.4101\n",
            "Epoch 15/60\n",
            "177/177 [==============================] - 59s 335ms/step - loss: 1.7430 - accuracy: 0.2979 - val_loss: 1.6036 - val_accuracy: 0.4145\n",
            "Epoch 16/60\n",
            "177/177 [==============================] - 60s 337ms/step - loss: 1.7352 - accuracy: 0.3098 - val_loss: 1.6163 - val_accuracy: 0.4177\n",
            "Epoch 17/60\n",
            "177/177 [==============================] - 60s 337ms/step - loss: 1.7172 - accuracy: 0.3212 - val_loss: 1.5995 - val_accuracy: 0.4248\n",
            "Epoch 18/60\n",
            "177/177 [==============================] - 59s 336ms/step - loss: 1.6994 - accuracy: 0.3227 - val_loss: 1.5652 - val_accuracy: 0.4293\n",
            "Epoch 19/60\n",
            "177/177 [==============================] - 60s 337ms/step - loss: 1.6808 - accuracy: 0.3403 - val_loss: 1.5523 - val_accuracy: 0.4364\n",
            "Epoch 20/60\n",
            "177/177 [==============================] - 59s 335ms/step - loss: 1.6576 - accuracy: 0.3447 - val_loss: 1.5909 - val_accuracy: 0.4025\n",
            "Epoch 21/60\n",
            "177/177 [==============================] - 60s 340ms/step - loss: 1.6476 - accuracy: 0.3505 - val_loss: 1.5886 - val_accuracy: 0.3980\n",
            "Epoch 22/60\n",
            "177/177 [==============================] - 60s 341ms/step - loss: 1.6181 - accuracy: 0.3668 - val_loss: 1.5339 - val_accuracy: 0.4270\n",
            "Epoch 23/60\n",
            "177/177 [==============================] - 64s 362ms/step - loss: 1.5884 - accuracy: 0.3735 - val_loss: 1.5190 - val_accuracy: 0.4395\n",
            "Epoch 24/60\n",
            "177/177 [==============================] - 60s 339ms/step - loss: 1.5705 - accuracy: 0.3850 - val_loss: 1.5490 - val_accuracy: 0.4083\n",
            "Epoch 25/60\n",
            "177/177 [==============================] - 59s 335ms/step - loss: 1.5231 - accuracy: 0.4078 - val_loss: 1.5110 - val_accuracy: 0.4422\n",
            "Epoch 26/60\n",
            "177/177 [==============================] - 59s 335ms/step - loss: 1.4931 - accuracy: 0.4206 - val_loss: 1.4980 - val_accuracy: 0.4418\n",
            "Epoch 27/60\n",
            "177/177 [==============================] - 60s 337ms/step - loss: 1.4732 - accuracy: 0.4263 - val_loss: 1.4992 - val_accuracy: 0.4440\n",
            "Epoch 28/60\n",
            "177/177 [==============================] - 64s 364ms/step - loss: 1.4256 - accuracy: 0.4479 - val_loss: 1.5004 - val_accuracy: 0.4422\n",
            "Epoch 29/60\n",
            "177/177 [==============================] - 60s 336ms/step - loss: 1.3983 - accuracy: 0.4568 - val_loss: 1.4898 - val_accuracy: 0.4547\n",
            "Epoch 30/60\n",
            "177/177 [==============================] - 59s 336ms/step - loss: 1.3452 - accuracy: 0.4821 - val_loss: 1.5064 - val_accuracy: 0.4453\n",
            "Epoch 31/60\n",
            "177/177 [==============================] - 59s 335ms/step - loss: 1.3069 - accuracy: 0.4971 - val_loss: 1.4754 - val_accuracy: 0.4605\n",
            "Epoch 32/60\n",
            "177/177 [==============================] - 59s 335ms/step - loss: 1.2599 - accuracy: 0.5152 - val_loss: 1.5146 - val_accuracy: 0.4587\n",
            "Epoch 33/60\n",
            "177/177 [==============================] - 59s 333ms/step - loss: 1.2045 - accuracy: 0.5401 - val_loss: 1.4985 - val_accuracy: 0.4797\n",
            "Epoch 34/60\n",
            "177/177 [==============================] - 60s 340ms/step - loss: 1.1725 - accuracy: 0.5552 - val_loss: 1.5426 - val_accuracy: 0.4507\n",
            "Epoch 35/60\n",
            "177/177 [==============================] - 59s 335ms/step - loss: 1.1375 - accuracy: 0.5695 - val_loss: 1.5448 - val_accuracy: 0.4708\n",
            "Epoch 36/60\n",
            "177/177 [==============================] - 64s 364ms/step - loss: 1.1001 - accuracy: 0.5874 - val_loss: 1.6020 - val_accuracy: 0.4734\n",
            "Epoch 37/60\n",
            "177/177 [==============================] - 60s 336ms/step - loss: 1.0632 - accuracy: 0.5895 - val_loss: 1.6201 - val_accuracy: 0.4743\n",
            "Epoch 38/60\n",
            "177/177 [==============================] - 59s 336ms/step - loss: 1.0148 - accuracy: 0.6075 - val_loss: 1.5992 - val_accuracy: 0.4882\n",
            "Epoch 39/60\n",
            "177/177 [==============================] - 59s 335ms/step - loss: 0.9989 - accuracy: 0.6249 - val_loss: 1.6276 - val_accuracy: 0.4828\n",
            "Epoch 40/60\n",
            "177/177 [==============================] - 59s 334ms/step - loss: 0.9512 - accuracy: 0.6358 - val_loss: 1.6982 - val_accuracy: 0.4962\n",
            "Epoch 41/60\n",
            "177/177 [==============================] - 59s 334ms/step - loss: 0.9226 - accuracy: 0.6527 - val_loss: 1.6700 - val_accuracy: 0.4967\n",
            "Epoch 42/60\n",
            "177/177 [==============================] - 59s 335ms/step - loss: 0.8935 - accuracy: 0.6570 - val_loss: 1.7271 - val_accuracy: 0.4917\n",
            "Epoch 43/60\n",
            "177/177 [==============================] - 64s 363ms/step - loss: 0.8730 - accuracy: 0.6667 - val_loss: 1.6607 - val_accuracy: 0.4895\n",
            "Epoch 44/60\n",
            "177/177 [==============================] - 59s 335ms/step - loss: 0.8382 - accuracy: 0.6810 - val_loss: 1.7238 - val_accuracy: 0.4944\n",
            "Epoch 45/60\n",
            "177/177 [==============================] - 59s 334ms/step - loss: 0.8190 - accuracy: 0.6885 - val_loss: 1.7209 - val_accuracy: 0.4958\n",
            "Epoch 46/60\n",
            "177/177 [==============================] - 59s 333ms/step - loss: 0.8003 - accuracy: 0.6947 - val_loss: 1.7437 - val_accuracy: 0.4962\n",
            "Epoch 47/60\n",
            "177/177 [==============================] - 59s 333ms/step - loss: 0.7804 - accuracy: 0.7071 - val_loss: 1.7805 - val_accuracy: 0.4949\n",
            "Epoch 48/60\n",
            "177/177 [==============================] - 59s 334ms/step - loss: 0.7520 - accuracy: 0.7146 - val_loss: 1.8424 - val_accuracy: 0.5029\n",
            "Epoch 49/60\n",
            "177/177 [==============================] - 60s 341ms/step - loss: 0.7376 - accuracy: 0.7120 - val_loss: 1.8157 - val_accuracy: 0.4909\n",
            "Epoch 50/60\n",
            "177/177 [==============================] - 59s 335ms/step - loss: 0.7263 - accuracy: 0.7256 - val_loss: 1.8570 - val_accuracy: 0.4980\n",
            "Epoch 51/60\n",
            "177/177 [==============================] - 60s 339ms/step - loss: 0.7116 - accuracy: 0.7336 - val_loss: 1.7661 - val_accuracy: 0.4958\n",
            "Epoch 52/60\n",
            "177/177 [==============================] - 59s 332ms/step - loss: 0.7019 - accuracy: 0.7345 - val_loss: 1.7656 - val_accuracy: 0.4931\n",
            "Epoch 53/60\n",
            "177/177 [==============================] - 59s 335ms/step - loss: 0.6750 - accuracy: 0.7360 - val_loss: 1.8449 - val_accuracy: 0.4975\n",
            "Epoch 54/60\n",
            "177/177 [==============================] - 59s 335ms/step - loss: 0.6726 - accuracy: 0.7440 - val_loss: 1.8542 - val_accuracy: 0.4984\n",
            "Epoch 55/60\n",
            "177/177 [==============================] - 59s 335ms/step - loss: 0.6520 - accuracy: 0.7475 - val_loss: 1.7934 - val_accuracy: 0.5060\n",
            "Epoch 56/60\n",
            "177/177 [==============================] - 64s 363ms/step - loss: 0.6561 - accuracy: 0.7505 - val_loss: 1.9098 - val_accuracy: 0.4953\n",
            "Epoch 57/60\n",
            "177/177 [==============================] - 59s 335ms/step - loss: 0.6452 - accuracy: 0.7538 - val_loss: 1.8433 - val_accuracy: 0.5074\n",
            "Epoch 58/60\n",
            "177/177 [==============================] - 59s 333ms/step - loss: 0.6268 - accuracy: 0.7573 - val_loss: 1.9386 - val_accuracy: 0.4993\n",
            "Epoch 59/60\n",
            "177/177 [==============================] - 60s 336ms/step - loss: 0.6097 - accuracy: 0.7631 - val_loss: 1.9208 - val_accuracy: 0.5002\n",
            "Epoch 60/60\n",
            "177/177 [==============================] - 59s 332ms/step - loss: 0.6083 - accuracy: 0.7586 - val_loss: 1.9115 - val_accuracy: 0.4953\n"
          ]
        }
      ]
    },
    {
      "cell_type": "code",
      "source": [
        "def plot_history(history, title='', axs=None, exp_name=\"\"):\n",
        "    if axs is not None:\n",
        "        ax1, ax2 = axs\n",
        "    else:\n",
        "        f, (ax1, ax2) = plt.subplots(1, 2, figsize=(12, 4))\n",
        "    \n",
        "    if len(exp_name) > 0 and exp_name[0] != '_':\n",
        "        exp_name = '_' + exp_name\n",
        "    ax1.plot(history.history['loss'], label='train' + exp_name)\n",
        "    ax1.plot(history.history['val_loss'], label='val' + exp_name)\n",
        "    #ax1.set_ylim(0., 2.2)\n",
        "    ax1.set_title('loss')\n",
        "    ax1.legend()\n",
        "\n",
        "    ax2.plot(history.history['accuracy'], label='train accuracy'  + exp_name)\n",
        "    ax2.plot(history.history['val_accuracy'], label='val accuracy'  + exp_name)\n",
        "    #ax2.set_ylim(0.25, 1.)\n",
        "    ax2.set_title('Accuracy')\n",
        "    ax2.legend()\n",
        "    return (ax1, ax2)"
      ],
      "metadata": {
        "id": "cZxrprdtvVfi"
      },
      "execution_count": 23,
      "outputs": []
    },
    {
      "cell_type": "code",
      "source": [
        "plot_history(res_history, title='', axs=None, exp_name=\"\");"
      ],
      "metadata": {
        "colab": {
          "base_uri": "https://localhost:8080/",
          "height": 281
        },
        "id": "JU2vRnc8vaF_",
        "outputId": "20d3c542-36cd-476b-aece-148468afa1e0"
      },
      "execution_count": 24,
      "outputs": [
        {
          "output_type": "display_data",
          "data": {
            "text/plain": [
              "<Figure size 864x288 with 2 Axes>"
            ],
            "image/png": "[encoded data removed]"
          },
          "metadata": {
            "needs_background": "light"
          }
        }
      ]
    }
  ]
}